{
 "cells": [
  {
   "cell_type": "code",
   "execution_count": null,
   "metadata": {},
   "outputs": [
    {
     "ename": "",
     "evalue": "",
     "output_type": "error",
     "traceback": [
      "\u001b[1;31mRunning cells with 'sanket_swin (Python 3.7.12)' requires the ipykernel package.\n",
      "\u001b[1;31mRun the following command to install 'ipykernel' into the Python environment. \n",
      "\u001b[1;31mCommand: 'conda install -n sanket_swin ipykernel --update-deps --force-reinstall'"
     ]
    }
   ],
   "source": [
    "import os\n",
    "import pandas as pd\n",
    "\n",
    "# Read the dataset\n",
    "dataset_path = \"birads/breast-level_annotations.csv\"\n",
    "data = pd.read_csv(dataset_path)\n",
    "\n",
    "# Define the root directory where images are stored\n",
    "image_root = \"/Data3/vineela/allatoneplace\"\n",
    "\n",
    "# Function to get the BIRADS classification and split for a given study ID\n",
    "def get_info(study_id):\n",
    "    study_data = data[data['study_id'] == study_id]\n",
    "    birads_classification = study_data['breast_birads'].iloc[0]\n",
    "    split = study_data['split'].iloc[0]\n",
    "    return birads_classification, split\n",
    "\n",
    "# Iterate over each entry in the dataset\n",
    "for index, row in data.iterrows():\n",
    "    study_id = row['study_id']\n",
    "    image_id = row['image_id']\n",
    "    birads_classification, split = get_info(study_id)\n",
    "\n",
    "    # Construct the path to the image\n",
    "    image_path = os.path.join(image_root, split, birads_classification, f\"{image_id}.jpg\")\n",
    "    \n",
    "    # Check if the image exists\n",
    "    if os.path.exists(image_path):\n",
    "        # Process the image here (e.g., read, analyze, etc.)\n",
    "        # For now, let's just print the details\n",
    "        print(f\"Study ID: {study_id}, BIRADS Classification: {birads_classification}, Split: {split}\")\n",
    "    else:\n",
    "        print(f\"Image not found for Study ID: {study_id}\")\n",
    "\n"
   ]
  },
  {
   "cell_type": "code",
   "execution_count": null,
   "metadata": {},
   "outputs": [],
   "source": []
  }
 ],
 "metadata": {
  "kernelspec": {
   "display_name": "sanket_swin",
   "language": "python",
   "name": "python3"
  },
  "language_info": {
   "name": "python",
   "version": "3.7.12"
  }
 },
 "nbformat": 4,
 "nbformat_minor": 2
}
